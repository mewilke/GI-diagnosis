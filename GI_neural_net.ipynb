{
  "nbformat": 4,
  "nbformat_minor": 0,
  "metadata": {
    "colab": {
      "provenance": [],
      "gpuType": "T4",
      "authorship_tag": "ABX9TyPlh5zssnN17pmGRHYoII7o"
    },
    "kernelspec": {
      "name": "python3",
      "display_name": "Python 3"
    },
    "language_info": {
      "name": "python"
    },
    "accelerator": "GPU"
  },
  "cells": [
    {
      "cell_type": "markdown",
      "source": [
        "##Neural Network\n",
        "A neural network is a type of AI model, inspired by the brain. It has interconnected nodes or \"neurons\" arranged in layers. These networks learn by adjusting weights and biases of the connections between neurons to recognize patterns and make predictions or decisions.\n",
        "\n",
        "In this application a neural net is used for categorization. TabPFN was chosen because it is excels with small tabular datasets. Its \"...transformer architecture learns a generic algorithm from a massive number of synthetic datasets, allowing it to make predictions on new data with a single forward pass (in-context learning) without requiring model retraining or extensive hyperparameter tuning.\""
      ],
      "metadata": {
        "id": "AcyM_YfSuJHe"
      }
    },
    {
      "cell_type": "code",
      "execution_count": 2,
      "metadata": {
        "colab": {
          "base_uri": "https://localhost:8080/"
        },
        "id": "yLNjCXCCrlUN",
        "outputId": "52aeb020-c5ed-479e-e210-08c1a7d8c8cd"
      },
      "outputs": [
        {
          "output_type": "stream",
          "name": "stdout",
          "text": [
            "Number of duplicate rows: 0\n"
          ]
        }
      ],
      "source": [
        "# TabPFN neaural net classifier\n",
        "\n",
        "# Install TabPFN with compatible Scikit Learn\n",
        "!pip install -q scikit-learn==1.6.1\n",
        "!pip install -q tabpfn\n",
        "\n",
        "import pandas as pd\n",
        "from sklearn.model_selection import train_test_split\n",
        "from sklearn.metrics import accuracy_score, precision_score, recall_score, f1_score\n",
        "from tabpfn import TabPFNClassifier\n",
        "# suppress warnings\n",
        "import warnings\n",
        "warnings.filterwarnings('ignore')\n",
        "\n",
        "# upload the dataset and check for duplicate rows\n",
        "df = pd.read_csv('./data/gastrointestinal_disease_dataset.csv')\n",
        "num_duplicate_rows = df.duplicated().sum()\n",
        "print(f\"Number of duplicate rows: {num_duplicate_rows}\")\n",
        "\n",
        "# train_test_split using just the top features\n",
        "df_top_feats = df[['Body_Weight', 'Gender', 'Age', 'Family_History', 'Disease_Class']]\n",
        "X = df_top_feats.drop('Disease_Class', axis=1)\n",
        "y = df_top_feats['Disease_Class']\n",
        "X_train, X_test, y_train, y_test = train_test_split(X, y, test_size=0.2, random_state=42)\n",
        "\n",
        "clf = TabPFNClassifier(ignore_pretraining_limits=True)\n",
        "clf.fit(X_train, y_train)\n",
        "y_pred = clf.predict(X_test)\n",
        "\n",
        "statistics_df = pd.DataFrame(columns=['Algorithm', 'Accuracy', 'Precision', 'Recall', 'F1'])\n",
        "statistics_df.loc[0, 'Algorithm'] = 'Neural Network'\n",
        "statistics_df.loc[0, 'Accuracy'] = accuracy_score(y_test, y_pred)\n",
        "statistics_df.loc[0, 'Precision'] = precision_score(y_test, y_pred, average='weighted')\n",
        "statistics_df.loc[0, 'Recall'] = recall_score(y_test, y_pred, average='weighted')\n",
        "statistics_df.loc[0, 'F1'] = f1_score(y_test, y_pred, average='weighted')\n",
        "\n",
        "statistics_df\n",
        "statistics_df.to_markdown('NN_stats.md', index=False)"
      ]
    },
    {
      "cell_type": "markdown",
      "source": [
        "##Next Steps\n",
        "The next step would be to find an existing model to predict the diagnoses based on the featues. The following code imports the MedGemma model, MedGemma-27b-text-it. It requires more RAM and probably more disk space. The model would have to be gently tuned to the GI features."
      ],
      "metadata": {
        "id": "DyqOUYFJoXV9"
      }
    },
    {
      "cell_type": "code",
      "source": [
        "#!pip install -U transformers\n",
        "\n",
        "#import sys\n",
        "#import os\n",
        "#if \"google.colab\" in sys.modules:\n",
        "#  from google.colab import userdata\n",
        "#  os.environ[\"HF_TOKEN\"] = userdata.get(\"HF_TOKEN\")\n",
        "#else:\n",
        "#  from huggingface_hub import get_token\n",
        "#  if get_token() is None:\n",
        "#    print('MedGemma-27b-text-it token not found')\n",
        "#    pass\n",
        "\n",
        "# import MedGemma-27b-text-it as pipe.model\n",
        "#from transformers import pipeline\n",
        "#import torch\n",
        "\n",
        "#pipe = pipeline(\n",
        "#    \"text2text-generation\",\n",
        "#    model=\"google/medgemma-27b-text-it\",\n",
        "#    dtype=torch.bfloat16,\n",
        "#    device=\"cuda\",\n",
        "#)"
      ],
      "metadata": {
        "id": "Cw50He0z6yGD"
      },
      "execution_count": 3,
      "outputs": []
    }
  ]
}